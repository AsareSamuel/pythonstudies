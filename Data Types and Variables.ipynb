{
 "cells": [
  {
   "cell_type": "markdown",
   "id": "0ff2ba0a",
   "metadata": {},
   "source": [
    "# Python Project- Data Types and Variables\n",
    "## by Asare Samuel\n",
    "### Introduction \n",
    "> ### This is a study document on the data types and variables acknowledged in Python. It takes a question and answer approach to define every data type and variable."
   ]
  },
  {
   "cell_type": "markdown",
   "id": "c762f441",
   "metadata": {},
   "source": [
    "### Data Types"
   ]
  },
  {
   "cell_type": "markdown",
   "id": "b6f1f2a8",
   "metadata": {},
   "source": [
    "1. Define each data type, and give an example.\n",
    "a. Integer b. Floating point c. String"
   ]
  },
  {
   "cell_type": "markdown",
   "id": "4132fed2",
   "metadata": {},
   "source": [
    ">ans. a. Integer- An integer is a positive or negative number that is not a decimal between 0 and infinity.For example 5\n",
    "     b. Foating Point OR Float - A floating point or Float is any decimal number, positive or negative. For example 5.0\n",
    "     c. String - A string is a data type that contains letters and numbers. for example 'text'."
   ]
  },
  {
   "cell_type": "markdown",
   "id": "f18266ad",
   "metadata": {},
   "source": [
    "2. What data type is each value? Use the type function to verify.\n",
    "a. 3\n",
    "b. 4.5\n",
    "c. 6.0\n",
    "d. \"hello\"\n",
    "e. \"3.14159\"\n",
    "f. math.pi"
   ]
  },
  {
   "cell_type": "code",
   "execution_count": 8,
   "id": "9b71b015",
   "metadata": {},
   "outputs": [
    {
     "data": {
      "text/plain": [
       "int"
      ]
     },
     "execution_count": 8,
     "metadata": {},
     "output_type": "execute_result"
    }
   ],
   "source": [
    " type(3)\n"
   ]
  },
  {
   "cell_type": "code",
   "execution_count": 9,
   "id": "f40a3043",
   "metadata": {},
   "outputs": [
    {
     "data": {
      "text/plain": [
       "float"
      ]
     },
     "execution_count": 9,
     "metadata": {},
     "output_type": "execute_result"
    }
   ],
   "source": [
    "type(4.5)"
   ]
  },
  {
   "cell_type": "code",
   "execution_count": 11,
   "id": "5d4f4c24",
   "metadata": {},
   "outputs": [
    {
     "data": {
      "text/plain": [
       "float"
      ]
     },
     "execution_count": 11,
     "metadata": {},
     "output_type": "execute_result"
    }
   ],
   "source": [
    "type(6.0)"
   ]
  },
  {
   "cell_type": "code",
   "execution_count": 12,
   "id": "b675b96e",
   "metadata": {},
   "outputs": [
    {
     "data": {
      "text/plain": [
       "str"
      ]
     },
     "execution_count": 12,
     "metadata": {},
     "output_type": "execute_result"
    }
   ],
   "source": [
    "type(\"hello\")"
   ]
  },
  {
   "cell_type": "code",
   "execution_count": 13,
   "id": "313ba724",
   "metadata": {},
   "outputs": [
    {
     "data": {
      "text/plain": [
       "str"
      ]
     },
     "execution_count": 13,
     "metadata": {},
     "output_type": "execute_result"
    }
   ],
   "source": [
    "type(\"3.14159\")"
   ]
  },
  {
   "cell_type": "code",
   "execution_count": 15,
   "id": "ed9c3f60",
   "metadata": {},
   "outputs": [
    {
     "data": {
      "text/plain": [
       "str"
      ]
     },
     "execution_count": 15,
     "metadata": {},
     "output_type": "execute_result"
    }
   ],
   "source": [
    "type('math.pi')"
   ]
  },
  {
   "cell_type": "markdown",
   "id": "b3013022",
   "metadata": {},
   "source": [
    "3. Use the type function to identify the data type of each result. Are there any that do not work?\n",
    "a. 3 + 7\n",
    "b. 5 + 6.0\n",
    "c. 6 / 3.0\n",
    "d. 6.0 // 3.0\n",
    "e. \"Py\" + \"thon\"\n",
    "f. \"High\" + 5"
   ]
  },
  {
   "cell_type": "code",
   "execution_count": 16,
   "id": "d174a27d",
   "metadata": {},
   "outputs": [
    {
     "data": {
      "text/plain": [
       "int"
      ]
     },
     "execution_count": 16,
     "metadata": {},
     "output_type": "execute_result"
    }
   ],
   "source": [
    " type( 3 + 7)"
   ]
  },
  {
   "cell_type": "code",
   "execution_count": 17,
   "id": "b44facf6",
   "metadata": {},
   "outputs": [
    {
     "data": {
      "text/plain": [
       "float"
      ]
     },
     "execution_count": 17,
     "metadata": {},
     "output_type": "execute_result"
    }
   ],
   "source": [
    "type(5+6.0)"
   ]
  },
  {
   "cell_type": "code",
   "execution_count": 18,
   "id": "565ec809",
   "metadata": {},
   "outputs": [
    {
     "data": {
      "text/plain": [
       "float"
      ]
     },
     "execution_count": 18,
     "metadata": {},
     "output_type": "execute_result"
    }
   ],
   "source": [
    "type(6/3.0)"
   ]
  },
  {
   "cell_type": "code",
   "execution_count": 21,
   "id": "7e18ae3d",
   "metadata": {},
   "outputs": [
    {
     "data": {
      "text/plain": [
       "float"
      ]
     },
     "execution_count": 21,
     "metadata": {},
     "output_type": "execute_result"
    }
   ],
   "source": [
    "type( 6.0 // 3.0)"
   ]
  },
  {
   "cell_type": "code",
   "execution_count": 22,
   "id": "aac057e0",
   "metadata": {},
   "outputs": [
    {
     "data": {
      "text/plain": [
       "str"
      ]
     },
     "execution_count": 22,
     "metadata": {},
     "output_type": "execute_result"
    }
   ],
   "source": [
    "type(\"Py\" + \"thon\")"
   ]
  },
  {
   "cell_type": "code",
   "execution_count": 23,
   "id": "f279e0bd",
   "metadata": {},
   "outputs": [
    {
     "ename": "TypeError",
     "evalue": "can only concatenate str (not \"int\") to str",
     "output_type": "error",
     "traceback": [
      "\u001b[1;31m---------------------------------------------------------------------------\u001b[0m",
      "\u001b[1;31mTypeError\u001b[0m                                 Traceback (most recent call last)",
      "\u001b[1;32m~\\AppData\\Local\\Temp\\ipykernel_10716\\451417488.py\u001b[0m in \u001b[0;36m<module>\u001b[1;34m\u001b[0m\n\u001b[1;32m----> 1\u001b[1;33m \u001b[0mtype\u001b[0m\u001b[1;33m(\u001b[0m\u001b[1;34m\"High\"\u001b[0m \u001b[1;33m+\u001b[0m \u001b[1;36m5\u001b[0m\u001b[1;33m)\u001b[0m\u001b[1;33m\u001b[0m\u001b[1;33m\u001b[0m\u001b[0m\n\u001b[0m",
      "\u001b[1;31mTypeError\u001b[0m: can only concatenate str (not \"int\") to str"
     ]
    }
   ],
   "source": [
    "type(\"High\" + 5)"
   ]
  },
  {
   "cell_type": "markdown",
   "id": "02ff43c5",
   "metadata": {},
   "source": [
    "The above does not work."
   ]
  },
  {
   "cell_type": "markdown",
   "id": "953c902c",
   "metadata": {},
   "source": [
    "### Variables"
   ]
  },
  {
   "cell_type": "markdown",
   "id": "afd11850",
   "metadata": {},
   "source": [
    "4. Which variable names are acceptable, and which are not? If a variable name is unacceptable, \n",
    "explain why.\n",
    "a. num\n",
    "b. AGE\n",
    "c. FiRsTnAmE\n",
    "d. _count\n",
    "e. 2nd_card\n",
    "f. card_2\n",
    "h. lambda"
   ]
  },
  {
   "cell_type": "markdown",
   "id": "48a43cd4",
   "metadata": {},
   "source": [
    "> ans: The following variable names are acceptable\n",
    "- a. num\n",
    "- b. AGE\n",
    "- c. FiRsTnAmE\n",
    "- d. _count\n",
    "- f. card_2\n",
    "- h. lambda\n",
    "\n",
    "- e. 2nd_card\n",
    "<p> This variable name is not acceptable because as a rule, variable names must not start with a number, but with a letter or an underscore.\n",
    "\n",
    "- g. card 2\n",
    "<p> This variable name is not acceptable because as a rule, spaces in python are to be shown with underscores. Anything else will print an error."
   ]
  },
  {
   "cell_type": "markdown",
   "id": "fbc15a03",
   "metadata": {},
   "source": [
    "5. Choose a meaningful variable name to represent each scenario.\n",
    "a. The number of cards dealt to a player.\n",
    "b. An employee's monthly salary.\n",
    "c. The sum of the values rolled by two dice.\n",
    "d. The temperature on a hot summer day."
   ]
  },
  {
   "cell_type": "markdown",
   "id": "21928dd0",
   "metadata": {},
   "source": [
    "Meaningful variable names\n",
    "a. num_of_cards\n",
    "b. monthly_salary\n",
    "c. sum\n",
    "d. temperature"
   ]
  },
  {
   "cell_type": "markdown",
   "id": "f3fd3b97",
   "metadata": {},
   "source": [
    "6. Assign the values x=\"house\", y=\"boat\" and z=\"ha\". What is the result of each statement? Which \n",
    "do not work, and why?\n",
    "a. x+y\n",
    "b. y+x\n",
    "c. z*3\n",
    "d. z*x\n",
    "e. x+2\n",
    "f. y+\"2\""
   ]
  },
  {
   "cell_type": "code",
   "execution_count": 27,
   "id": "d698ad43",
   "metadata": {},
   "outputs": [],
   "source": [
    "x=\"house\""
   ]
  },
  {
   "cell_type": "code",
   "execution_count": 28,
   "id": "46b7bd45",
   "metadata": {},
   "outputs": [],
   "source": [
    "y=\"boat\""
   ]
  },
  {
   "cell_type": "code",
   "execution_count": 29,
   "id": "54aa6c19",
   "metadata": {},
   "outputs": [],
   "source": [
    "z=\"ha\" "
   ]
  },
  {
   "cell_type": "code",
   "execution_count": 39,
   "id": "afa3a4bb",
   "metadata": {},
   "outputs": [
    {
     "data": {
      "text/plain": [
       "('houseboat', 'boathouse', 'hahaha', 'boat2')"
      ]
     },
     "execution_count": 39,
     "metadata": {},
     "output_type": "execute_result"
    }
   ],
   "source": [
    "x+y , y+x , z*3 , y+\"2\""
   ]
  },
  {
   "cell_type": "markdown",
   "id": "ea7d46a0",
   "metadata": {},
   "source": [
    "The operations below do not work, the first is because you cant multiply a str data type with another, only an int data type."
   ]
  },
  {
   "cell_type": "code",
   "execution_count": 36,
   "id": "199f3862",
   "metadata": {
    "scrolled": true
   },
   "outputs": [
    {
     "ename": "TypeError",
     "evalue": "can't multiply sequence by non-int of type 'str'",
     "output_type": "error",
     "traceback": [
      "\u001b[1;31m---------------------------------------------------------------------------\u001b[0m",
      "\u001b[1;31mTypeError\u001b[0m                                 Traceback (most recent call last)",
      "\u001b[1;32m~\\AppData\\Local\\Temp\\ipykernel_10716\\3920328952.py\u001b[0m in \u001b[0;36m<module>\u001b[1;34m\u001b[0m\n\u001b[1;32m----> 1\u001b[1;33m \u001b[0mz\u001b[0m\u001b[1;33m*\u001b[0m\u001b[0mx\u001b[0m\u001b[1;33m\u001b[0m\u001b[1;33m\u001b[0m\u001b[0m\n\u001b[0m",
      "\u001b[1;31mTypeError\u001b[0m: can't multiply sequence by non-int of type 'str'"
     ]
    }
   ],
   "source": [
    " z*x "
   ]
  },
  {
   "cell_type": "code",
   "execution_count": null,
   "id": "c4701d42",
   "metadata": {},
   "outputs": [],
   "source": [
    "The second does not work because we can only add two str data type values, if we were to double quote 2,m then that will work."
   ]
  },
  {
   "cell_type": "code",
   "execution_count": 37,
   "id": "87ce081c",
   "metadata": {},
   "outputs": [
    {
     "ename": "TypeError",
     "evalue": "can only concatenate str (not \"int\") to str",
     "output_type": "error",
     "traceback": [
      "\u001b[1;31m---------------------------------------------------------------------------\u001b[0m",
      "\u001b[1;31mTypeError\u001b[0m                                 Traceback (most recent call last)",
      "\u001b[1;32m~\\AppData\\Local\\Temp\\ipykernel_10716\\840627339.py\u001b[0m in \u001b[0;36m<module>\u001b[1;34m\u001b[0m\n\u001b[1;32m----> 1\u001b[1;33m \u001b[0mx\u001b[0m\u001b[1;33m+\u001b[0m\u001b[1;36m2\u001b[0m\u001b[1;33m\u001b[0m\u001b[1;33m\u001b[0m\u001b[0m\n\u001b[0m",
      "\u001b[1;31mTypeError\u001b[0m: can only concatenate str (not \"int\") to str"
     ]
    }
   ],
   "source": [
    " x+2"
   ]
  },
  {
   "cell_type": "markdown",
   "id": "f1013b28",
   "metadata": {},
   "source": [
    "7. Assign the values base=10 and height=5. Calculate the area of a triangle using the formula\n",
    "At=\n",
    "1\n",
    "2\n",
    "(b)(h) , and assign the value to the variable area. Echo this value."
   ]
  },
  {
   "cell_type": "code",
   "execution_count": 62,
   "id": "31c5b0a1",
   "metadata": {},
   "outputs": [],
   "source": [
    "b=10 "
   ]
  },
  {
   "cell_type": "code",
   "execution_count": 63,
   "id": "61af2c7c",
   "metadata": {},
   "outputs": [],
   "source": [
    " h=5"
   ]
  },
  {
   "cell_type": "code",
   "execution_count": 64,
   "id": "c6b94492",
   "metadata": {},
   "outputs": [
    {
     "name": "stdout",
     "output_type": "stream",
     "text": [
      "25.0\n"
     ]
    }
   ],
   "source": [
    "area = (b*h)/2\n",
    "print(area)"
   ]
  },
  {
   "cell_type": "code",
   "execution_count": 71,
   "id": "d26243e4",
   "metadata": {},
   "outputs": [],
   "source": [
    "area=25.0"
   ]
  },
  {
   "cell_type": "code",
   "execution_count": 72,
   "id": "463e49e5",
   "metadata": {},
   "outputs": [
    {
     "name": "stdout",
     "output_type": "stream",
     "text": [
      "25.0\n"
     ]
    }
   ],
   "source": [
    "print(area)"
   ]
  },
  {
   "cell_type": "markdown",
   "id": "dce3518c",
   "metadata": {},
   "source": [
    "8. Execute the following sequence of commands in the shell, then state the final value of k.\n",
    "k = 7\n",
    "k += 3\n",
    "k *= 2\n",
    "k -= 5\n",
    "k //= 6"
   ]
  },
  {
   "cell_type": "code",
   "execution_count": 94,
   "id": "494965c2",
   "metadata": {
    "scrolled": true
   },
   "outputs": [
    {
     "name": "stdout",
     "output_type": "stream",
     "text": [
      "2\n"
     ]
    }
   ],
   "source": [
    "k=7\n",
    "k+=3\n",
    "k*=2\n",
    "k-=5\n",
    "k//=6\n",
    "print(k)"
   ]
  },
  {
   "cell_type": "markdown",
   "id": "0842c421",
   "metadata": {},
   "source": [
    "9. Explain why the following run-time error occurs.\n",
    ">>> number = 8\n",
    ">>> Number += 1\n",
    "Traceback (most recent call last):\n",
    " File \"<pyshell>\", line 1, in <module>\n",
    "NameError: name 'Number' is not defined"
   ]
  },
  {
   "cell_type": "markdown",
   "id": "ae897caf",
   "metadata": {},
   "source": [
    "Python is case sensitive, so number != Number\n",
    "The change from number to Number in the second line of the code prints the above error."
   ]
  },
  {
   "cell_type": "markdown",
   "id": "6afab581",
   "metadata": {},
   "source": [
    "10. Python is a dynamically-typed language: a variable’s data type can change as necessary. \n",
    "Assign the value x=4, then use check its type using the type function.\n",
    "What data type is it? Increment x by 1, \n",
    "using the += operator, then check its type again.\n",
    "Did it change? If so, what data type is it? \n",
    "Increment x by 1.0, then check its type. Did it change?\n",
    "If so, what data type is it?"
   ]
  },
  {
   "cell_type": "code",
   "execution_count": 74,
   "id": "97d4e68e",
   "metadata": {},
   "outputs": [],
   "source": [
    "x=4"
   ]
  },
  {
   "cell_type": "code",
   "execution_count": 75,
   "id": "61e25e66",
   "metadata": {},
   "outputs": [
    {
     "data": {
      "text/plain": [
       "int"
      ]
     },
     "execution_count": 75,
     "metadata": {},
     "output_type": "execute_result"
    }
   ],
   "source": [
    "type(x)"
   ]
  },
  {
   "cell_type": "code",
   "execution_count": 77,
   "id": "15682567",
   "metadata": {},
   "outputs": [],
   "source": [
    "x+=1"
   ]
  },
  {
   "cell_type": "code",
   "execution_count": 79,
   "id": "9419338d",
   "metadata": {},
   "outputs": [
    {
     "name": "stdout",
     "output_type": "stream",
     "text": [
      "5\n"
     ]
    }
   ],
   "source": [
    "print(x)"
   ]
  },
  {
   "cell_type": "code",
   "execution_count": 78,
   "id": "3e54f45f",
   "metadata": {},
   "outputs": [
    {
     "data": {
      "text/plain": [
       "int"
      ]
     },
     "execution_count": 78,
     "metadata": {},
     "output_type": "execute_result"
    }
   ],
   "source": [
    "type(x)"
   ]
  },
  {
   "cell_type": "code",
   "execution_count": 80,
   "id": "76d0694d",
   "metadata": {},
   "outputs": [],
   "source": [
    "x+=1.0"
   ]
  },
  {
   "cell_type": "code",
   "execution_count": 81,
   "id": "6db1f619",
   "metadata": {},
   "outputs": [
    {
     "name": "stdout",
     "output_type": "stream",
     "text": [
      "6.0\n"
     ]
    }
   ],
   "source": [
    "print(x)"
   ]
  },
  {
   "cell_type": "code",
   "execution_count": 82,
   "id": "35c403ef",
   "metadata": {},
   "outputs": [
    {
     "data": {
      "text/plain": [
       "float"
      ]
     },
     "execution_count": 82,
     "metadata": {},
     "output_type": "execute_result"
    }
   ],
   "source": [
    "type(x)"
   ]
  },
  {
   "cell_type": "markdown",
   "id": "1735af9b",
   "metadata": {},
   "source": [
    "The last operation changed the data type to float\n"
   ]
  },
  {
   "cell_type": "code",
   "execution_count": null,
   "id": "9b5fe857",
   "metadata": {},
   "outputs": [],
   "source": []
  }
 ],
 "metadata": {
  "kernelspec": {
   "display_name": "Python 3 (ipykernel)",
   "language": "python",
   "name": "python3"
  },
  "language_info": {
   "codemirror_mode": {
    "name": "ipython",
    "version": 3
   },
   "file_extension": ".py",
   "mimetype": "text/x-python",
   "name": "python",
   "nbconvert_exporter": "python",
   "pygments_lexer": "ipython3",
   "version": "3.9.13"
  }
 },
 "nbformat": 4,
 "nbformat_minor": 5
}
